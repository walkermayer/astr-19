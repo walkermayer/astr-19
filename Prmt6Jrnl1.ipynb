{
 "cells": [
  {
   "cell_type": "markdown",
   "id": "cf79b16b",
   "metadata": {},
   "source": [
    "## Promt 6 Journal 1"
   ]
  },
  {
   "cell_type": "code",
   "execution_count": 7,
   "id": "a51c41cc",
   "metadata": {},
   "outputs": [],
   "source": [
    "import numpy as np\n",
    "from astropy.table import Table"
   ]
  },
  {
   "cell_type": "markdown",
   "id": "de24bf78",
   "metadata": {},
   "source": [
    "### Making a function for sin(x)\n",
    "This function takes an imput and returns the sin of that value using np.sin(x)"
   ]
  },
  {
   "cell_type": "code",
   "execution_count": 3,
   "id": "3b9477a6",
   "metadata": {},
   "outputs": [],
   "source": [
    "def sin(x):\n",
    "    return np.sin(x)"
   ]
  },
  {
   "cell_type": "markdown",
   "id": "da476e10",
   "metadata": {},
   "source": [
    "Same thing but for cos(x) this time:"
   ]
  },
  {
   "cell_type": "code",
   "execution_count": 4,
   "id": "f6f89cd8",
   "metadata": {},
   "outputs": [],
   "source": [
    "def cos(x):\n",
    "    return np.cos(x)"
   ]
  },
  {
   "cell_type": "markdown",
   "id": "3666268b",
   "metadata": {},
   "source": [
    "This use the astropy function to make a table of the 1000 values of x, sin and cos. "
   ]
  },
  {
   "cell_type": "code",
   "execution_count": 9,
   "id": "1f10a3ef",
   "metadata": {
    "scrolled": true
   },
   "outputs": [
    {
     "name": "stdout",
     "output_type": "stream",
     "text": [
      "  x   sin(x) cos(x)\n",
      "----- ------ ------\n",
      "0.000  0.000  1.000\n",
      "0.006  0.006  1.000\n",
      "0.013  0.013  1.000\n",
      "0.019  0.019  1.000\n",
      "0.025  0.025  1.000\n",
      "0.031  0.031  1.000\n",
      "0.038  0.038  0.999\n",
      "  ...    ...    ...\n",
      "6.245 -0.038  0.999\n",
      "6.252 -0.031  1.000\n",
      "6.258 -0.025  1.000\n",
      "6.264 -0.019  1.000\n",
      "6.271 -0.013  1.000\n",
      "6.277 -0.006  1.000\n",
      "6.283 -0.000  1.000\n",
      "Length = 1000 rows\n"
     ]
    }
   ],
   "source": [
    "x = np.linspace(0, 2 * np.pi, 1000)\n",
    "\n",
    "trig_table = Table()\n",
    "trig_table[\"x\"] = x\n",
    "trig_table[\"sin(x)\"] = sin(x)\n",
    "trig_table[\"cos(x)\"] = cos(x)\n",
    "\n",
    "trig_table[\"x\"].format = \"{:.3f}\"\n",
    "trig_table[\"sin(x)\"].format = \"{:.3f}\"\n",
    "trig_table[\"cos(x)\"].format = \"{:.3f}\"\n",
    "print(trig_table)"
   ]
  },
  {
   "cell_type": "markdown",
   "id": "bed9b109",
   "metadata": {},
   "source": [
    "## This one is for printing columns of sin and cos:\n",
    "The if statement is to make sure its just the first 10 values"
   ]
  },
  {
   "cell_type": "code",
   "execution_count": 20,
   "id": "3216c1c2",
   "metadata": {
    "scrolled": true
   },
   "outputs": [
    {
     "name": "stdout",
     "output_type": "stream",
     "text": [
      " x: 0.0 sin(x): 0.0 cos(x): 1.0\n",
      " x: 0.006289474781961547 sin(x): 0.006289433316067751 cos(x): 0.9999802213186832\n",
      " x: 0.012578949563923095 sin(x): 0.012578617838741058 cos(x): 0.9999208860571255\n",
      " x: 0.018868424345884642 sin(x): 0.01886730478446709 cos(x): 0.9998219965624732\n",
      " x: 0.02515789912784619 sin(x): 0.025155245389375847 cos(x): 0.9996835567465339\n",
      " x: 0.03144737390980774 sin(x): 0.0314421909191206 cos(x): 0.9995055720856215\n",
      " x: 0.037736848691769284 sin(x): 0.03772789267871718 cos(x): 0.99928804962034\n",
      " x: 0.04402632347373083 sin(x): 0.04401210202238166 cos(x): 0.9990309979553044\n",
      " x: 0.05031579825569238 sin(x): 0.05029457036336618 cos(x): 0.9987344272588006\n",
      " x: 0.056605273037653926 sin(x): 0.056575049183792345 cos(x): 0.9983983492623831\n"
     ]
    }
   ],
   "source": [
    "for i in x:\n",
    "    if i > 10 * 2 * np.pi / 1000:\n",
    "        break\n",
    "    print(f' x: {i} sin(x): {np.sin(i)} cos(x): {np.cos(i)}')"
   ]
  },
  {
   "cell_type": "code",
   "execution_count": null,
   "id": "9d41fd03",
   "metadata": {},
   "outputs": [],
   "source": []
  }
 ],
 "metadata": {
  "kernelspec": {
   "display_name": "Python 3 (ipykernel)",
   "language": "python",
   "name": "python3"
  },
  "language_info": {
   "codemirror_mode": {
    "name": "ipython",
    "version": 3
   },
   "file_extension": ".py",
   "mimetype": "text/x-python",
   "name": "python",
   "nbconvert_exporter": "python",
   "pygments_lexer": "ipython3",
   "version": "3.10.9"
  }
 },
 "nbformat": 4,
 "nbformat_minor": 5
}
